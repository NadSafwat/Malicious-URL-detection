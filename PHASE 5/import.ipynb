{
 "cells": [
  {
   "cell_type": "code",
   "execution_count": 1,
   "metadata": {},
   "outputs": [],
   "source": [
    "import pandas as pd\n",
    "from sqlalchemy import create_engine\n",
    "\n",
    "CSV = r\"C:\\Users\\nadin\\OneDrive\\Documents\\Machine Learning Project\\train_dump_v2.csv\"\n",
    "Name = \"data_to_view\"\n",
    "\n",
    "df = pd.read_csv(CSV)\n",
    "df = df.where(pd.notna(df), None)\n",
    "\n",
    "db_user = \"root\"\n",
    "db_password = \"Nad.Safwat123\"\n",
    "db_host = \"localhost\"\n",
    "db_port = \"3306\"\n",
    "db_name = \"ml\"\n",
    "\n",
    "engine_str = f\"mysql+pymysql://{db_user}:{db_password}@{db_host}/{db_name}\"\n",
    "engine = create_engine(engine_str)\n",
    "table_name = Name\n",
    "df.to_sql(table_name, con=engine, if_exists='replace', index=False)\n",
    "engine.dispose()"
   ]
  }
 ],
 "metadata": {
  "kernelspec": {
   "display_name": "Python 3",
   "language": "python",
   "name": "python3"
  },
  "language_info": {
   "codemirror_mode": {
    "name": "ipython",
    "version": 3
   },
   "file_extension": ".py",
   "mimetype": "text/x-python",
   "name": "python",
   "nbconvert_exporter": "python",
   "pygments_lexer": "ipython3",
   "version": "3.12.0"
  }
 },
 "nbformat": 4,
 "nbformat_minor": 2
}
